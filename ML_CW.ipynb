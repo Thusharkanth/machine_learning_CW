{
  "nbformat": 4,
  "nbformat_minor": 0,
  "metadata": {
    "colab": {
      "provenance": [],
      "authorship_tag": "ABX9TyNgXF4WbVzxJixrZ+wa+kDh",
      "include_colab_link": true
    },
    "kernelspec": {
      "name": "python3",
      "display_name": "Python 3"
    },
    "language_info": {
      "name": "python"
    }
  },
  "cells": [
    {
      "cell_type": "markdown",
      "metadata": {
        "id": "view-in-github",
        "colab_type": "text"
      },
      "source": [
        "<a href=\"https://colab.research.google.com/github/Thusharkanth/machine_learning_CW/blob/main/ML_CW.ipynb\" target=\"_parent\"><img src=\"https://colab.research.google.com/assets/colab-badge.svg\" alt=\"Open In Colab\"/></a>"
      ]
    },
    {
      "cell_type": "code",
      "execution_count": 52,
      "metadata": {
        "id": "xV6yjCkeHKQn"
      },
      "outputs": [],
      "source": [
        "import pandas as pd\n",
        "import numpy as np"
      ]
    },
    {
      "cell_type": "code",
      "source": [
        "# upload the file to colab\n",
        "\n",
        "from google.colab import files\n",
        "uploaded = files.upload()\n",
        "\n",
        "# Loading the data set  with correct delimeter\n",
        "\n",
        "file_name = list(uploaded.keys())[0]\n",
        "df = pd.read_csv(file_name, sep = ';')"
      ],
      "metadata": {
        "colab": {
          "base_uri": "https://localhost:8080/",
          "height": 74
        },
        "id": "xFkFHQx4H6v1",
        "outputId": "65f9d808-be2f-4ba2-dba6-ad0593d78a94"
      },
      "execution_count": 53,
      "outputs": [
        {
          "output_type": "display_data",
          "data": {
            "text/plain": [
              "<IPython.core.display.HTML object>"
            ],
            "text/html": [
              "\n",
              "     <input type=\"file\" id=\"files-e4b6dba6-1b4d-4c3c-8afc-a34fa43004bb\" name=\"files[]\" multiple disabled\n",
              "        style=\"border:none\" />\n",
              "     <output id=\"result-e4b6dba6-1b4d-4c3c-8afc-a34fa43004bb\">\n",
              "      Upload widget is only available when the cell has been executed in the\n",
              "      current browser session. Please rerun this cell to enable.\n",
              "      </output>\n",
              "      <script>// Copyright 2017 Google LLC\n",
              "//\n",
              "// Licensed under the Apache License, Version 2.0 (the \"License\");\n",
              "// you may not use this file except in compliance with the License.\n",
              "// You may obtain a copy of the License at\n",
              "//\n",
              "//      http://www.apache.org/licenses/LICENSE-2.0\n",
              "//\n",
              "// Unless required by applicable law or agreed to in writing, software\n",
              "// distributed under the License is distributed on an \"AS IS\" BASIS,\n",
              "// WITHOUT WARRANTIES OR CONDITIONS OF ANY KIND, either express or implied.\n",
              "// See the License for the specific language governing permissions and\n",
              "// limitations under the License.\n",
              "\n",
              "/**\n",
              " * @fileoverview Helpers for google.colab Python module.\n",
              " */\n",
              "(function(scope) {\n",
              "function span(text, styleAttributes = {}) {\n",
              "  const element = document.createElement('span');\n",
              "  element.textContent = text;\n",
              "  for (const key of Object.keys(styleAttributes)) {\n",
              "    element.style[key] = styleAttributes[key];\n",
              "  }\n",
              "  return element;\n",
              "}\n",
              "\n",
              "// Max number of bytes which will be uploaded at a time.\n",
              "const MAX_PAYLOAD_SIZE = 100 * 1024;\n",
              "\n",
              "function _uploadFiles(inputId, outputId) {\n",
              "  const steps = uploadFilesStep(inputId, outputId);\n",
              "  const outputElement = document.getElementById(outputId);\n",
              "  // Cache steps on the outputElement to make it available for the next call\n",
              "  // to uploadFilesContinue from Python.\n",
              "  outputElement.steps = steps;\n",
              "\n",
              "  return _uploadFilesContinue(outputId);\n",
              "}\n",
              "\n",
              "// This is roughly an async generator (not supported in the browser yet),\n",
              "// where there are multiple asynchronous steps and the Python side is going\n",
              "// to poll for completion of each step.\n",
              "// This uses a Promise to block the python side on completion of each step,\n",
              "// then passes the result of the previous step as the input to the next step.\n",
              "function _uploadFilesContinue(outputId) {\n",
              "  const outputElement = document.getElementById(outputId);\n",
              "  const steps = outputElement.steps;\n",
              "\n",
              "  const next = steps.next(outputElement.lastPromiseValue);\n",
              "  return Promise.resolve(next.value.promise).then((value) => {\n",
              "    // Cache the last promise value to make it available to the next\n",
              "    // step of the generator.\n",
              "    outputElement.lastPromiseValue = value;\n",
              "    return next.value.response;\n",
              "  });\n",
              "}\n",
              "\n",
              "/**\n",
              " * Generator function which is called between each async step of the upload\n",
              " * process.\n",
              " * @param {string} inputId Element ID of the input file picker element.\n",
              " * @param {string} outputId Element ID of the output display.\n",
              " * @return {!Iterable<!Object>} Iterable of next steps.\n",
              " */\n",
              "function* uploadFilesStep(inputId, outputId) {\n",
              "  const inputElement = document.getElementById(inputId);\n",
              "  inputElement.disabled = false;\n",
              "\n",
              "  const outputElement = document.getElementById(outputId);\n",
              "  outputElement.innerHTML = '';\n",
              "\n",
              "  const pickedPromise = new Promise((resolve) => {\n",
              "    inputElement.addEventListener('change', (e) => {\n",
              "      resolve(e.target.files);\n",
              "    });\n",
              "  });\n",
              "\n",
              "  const cancel = document.createElement('button');\n",
              "  inputElement.parentElement.appendChild(cancel);\n",
              "  cancel.textContent = 'Cancel upload';\n",
              "  const cancelPromise = new Promise((resolve) => {\n",
              "    cancel.onclick = () => {\n",
              "      resolve(null);\n",
              "    };\n",
              "  });\n",
              "\n",
              "  // Wait for the user to pick the files.\n",
              "  const files = yield {\n",
              "    promise: Promise.race([pickedPromise, cancelPromise]),\n",
              "    response: {\n",
              "      action: 'starting',\n",
              "    }\n",
              "  };\n",
              "\n",
              "  cancel.remove();\n",
              "\n",
              "  // Disable the input element since further picks are not allowed.\n",
              "  inputElement.disabled = true;\n",
              "\n",
              "  if (!files) {\n",
              "    return {\n",
              "      response: {\n",
              "        action: 'complete',\n",
              "      }\n",
              "    };\n",
              "  }\n",
              "\n",
              "  for (const file of files) {\n",
              "    const li = document.createElement('li');\n",
              "    li.append(span(file.name, {fontWeight: 'bold'}));\n",
              "    li.append(span(\n",
              "        `(${file.type || 'n/a'}) - ${file.size} bytes, ` +\n",
              "        `last modified: ${\n",
              "            file.lastModifiedDate ? file.lastModifiedDate.toLocaleDateString() :\n",
              "                                    'n/a'} - `));\n",
              "    const percent = span('0% done');\n",
              "    li.appendChild(percent);\n",
              "\n",
              "    outputElement.appendChild(li);\n",
              "\n",
              "    const fileDataPromise = new Promise((resolve) => {\n",
              "      const reader = new FileReader();\n",
              "      reader.onload = (e) => {\n",
              "        resolve(e.target.result);\n",
              "      };\n",
              "      reader.readAsArrayBuffer(file);\n",
              "    });\n",
              "    // Wait for the data to be ready.\n",
              "    let fileData = yield {\n",
              "      promise: fileDataPromise,\n",
              "      response: {\n",
              "        action: 'continue',\n",
              "      }\n",
              "    };\n",
              "\n",
              "    // Use a chunked sending to avoid message size limits. See b/62115660.\n",
              "    let position = 0;\n",
              "    do {\n",
              "      const length = Math.min(fileData.byteLength - position, MAX_PAYLOAD_SIZE);\n",
              "      const chunk = new Uint8Array(fileData, position, length);\n",
              "      position += length;\n",
              "\n",
              "      const base64 = btoa(String.fromCharCode.apply(null, chunk));\n",
              "      yield {\n",
              "        response: {\n",
              "          action: 'append',\n",
              "          file: file.name,\n",
              "          data: base64,\n",
              "        },\n",
              "      };\n",
              "\n",
              "      let percentDone = fileData.byteLength === 0 ?\n",
              "          100 :\n",
              "          Math.round((position / fileData.byteLength) * 100);\n",
              "      percent.textContent = `${percentDone}% done`;\n",
              "\n",
              "    } while (position < fileData.byteLength);\n",
              "  }\n",
              "\n",
              "  // All done.\n",
              "  yield {\n",
              "    response: {\n",
              "      action: 'complete',\n",
              "    }\n",
              "  };\n",
              "}\n",
              "\n",
              "scope.google = scope.google || {};\n",
              "scope.google.colab = scope.google.colab || {};\n",
              "scope.google.colab._files = {\n",
              "  _uploadFiles,\n",
              "  _uploadFilesContinue,\n",
              "};\n",
              "})(self);\n",
              "</script> "
            ]
          },
          "metadata": {}
        },
        {
          "output_type": "stream",
          "name": "stdout",
          "text": [
            "Saving bank-full.csv to bank-full (3).csv\n"
          ]
        }
      ]
    },
    {
      "cell_type": "code",
      "source": [
        "# understanding the data\n",
        "\n",
        "print ('First 5 rows of the dataset : ')\n",
        "print (df.head())\n",
        "\n",
        "# checking the sdata type\n",
        "\n",
        "print(\"\\n Dataset info ........... \\n\")\n",
        "print(df.info())\n",
        "\n",
        "#Statisitical summary of the numerial data\n",
        "\n",
        "print(\"\\n Statistical summary of the numerical data .......\\n\")\n",
        "print(df.describe())"
      ],
      "metadata": {
        "colab": {
          "base_uri": "https://localhost:8080/"
        },
        "id": "9dEaY217Nox0",
        "outputId": "b7e2e28c-0f9a-493e-ff59-3732f2005743"
      },
      "execution_count": 54,
      "outputs": [
        {
          "output_type": "stream",
          "name": "stdout",
          "text": [
            "First 5 rows of the dataset : \n",
            "   age           job  marital  education default  balance housing loan  \\\n",
            "0   58    management  married   tertiary      no     2143     yes   no   \n",
            "1   44    technician   single  secondary      no       29     yes   no   \n",
            "2   33  entrepreneur  married  secondary      no        2     yes  yes   \n",
            "3   47   blue-collar  married    unknown      no     1506     yes   no   \n",
            "4   33       unknown   single    unknown      no        1      no   no   \n",
            "\n",
            "   contact  day month  duration  campaign  pdays  previous poutcome   y  \n",
            "0  unknown    5   may       261         1     -1         0  unknown  no  \n",
            "1  unknown    5   may       151         1     -1         0  unknown  no  \n",
            "2  unknown    5   may        76         1     -1         0  unknown  no  \n",
            "3  unknown    5   may        92         1     -1         0  unknown  no  \n",
            "4  unknown    5   may       198         1     -1         0  unknown  no  \n",
            "\n",
            " Dataset info ........... \n",
            "\n",
            "<class 'pandas.core.frame.DataFrame'>\n",
            "RangeIndex: 45211 entries, 0 to 45210\n",
            "Data columns (total 17 columns):\n",
            " #   Column     Non-Null Count  Dtype \n",
            "---  ------     --------------  ----- \n",
            " 0   age        45211 non-null  int64 \n",
            " 1   job        45211 non-null  object\n",
            " 2   marital    45211 non-null  object\n",
            " 3   education  45211 non-null  object\n",
            " 4   default    45211 non-null  object\n",
            " 5   balance    45211 non-null  int64 \n",
            " 6   housing    45211 non-null  object\n",
            " 7   loan       45211 non-null  object\n",
            " 8   contact    45211 non-null  object\n",
            " 9   day        45211 non-null  int64 \n",
            " 10  month      45211 non-null  object\n",
            " 11  duration   45211 non-null  int64 \n",
            " 12  campaign   45211 non-null  int64 \n",
            " 13  pdays      45211 non-null  int64 \n",
            " 14  previous   45211 non-null  int64 \n",
            " 15  poutcome   45211 non-null  object\n",
            " 16  y          45211 non-null  object\n",
            "dtypes: int64(7), object(10)\n",
            "memory usage: 5.9+ MB\n",
            "None\n",
            "\n",
            " Statistical summary of the numerical data .......\n",
            "\n",
            "                age        balance           day      duration      campaign  \\\n",
            "count  45211.000000   45211.000000  45211.000000  45211.000000  45211.000000   \n",
            "mean      40.936210    1362.272058     15.806419    258.163080      2.763841   \n",
            "std       10.618762    3044.765829      8.322476    257.527812      3.098021   \n",
            "min       18.000000   -8019.000000      1.000000      0.000000      1.000000   \n",
            "25%       33.000000      72.000000      8.000000    103.000000      1.000000   \n",
            "50%       39.000000     448.000000     16.000000    180.000000      2.000000   \n",
            "75%       48.000000    1428.000000     21.000000    319.000000      3.000000   \n",
            "max       95.000000  102127.000000     31.000000   4918.000000     63.000000   \n",
            "\n",
            "              pdays      previous  \n",
            "count  45211.000000  45211.000000  \n",
            "mean      40.197828      0.580323  \n",
            "std      100.128746      2.303441  \n",
            "min       -1.000000      0.000000  \n",
            "25%       -1.000000      0.000000  \n",
            "50%       -1.000000      0.000000  \n",
            "75%       -1.000000      0.000000  \n",
            "max      871.000000    275.000000  \n"
          ]
        }
      ]
    },
    {
      "cell_type": "code",
      "source": [
        "# handling the missing values\n",
        "# Replacing the value 'unknow' to NaN for easy handling\n",
        "\n",
        "df.replace ('unknown', np.nan, inplace=True)\n",
        "\n",
        "# checking the missing value\n",
        "\n",
        "print (\"\\n Missing Values per coloumn .............\\n\")\n",
        "print (df.isnull().sum())\n",
        "\n",
        "# Drop rows with cirital missing value (job , education )\n",
        "# since we have large data and the missing value is small part the information loss is less than 0.64% and 4.22% respectivitly\n",
        "\n",
        "df.dropna(subset =['job','education'], inplace= True )\n",
        "\n",
        "print ('\\n Missing value after droppping \\n ')\n",
        "print (df.isnull().sum())\n",
        "\n",
        "\n",
        "# Filling missing values for 'contact' and 'poutcome' with mode\n",
        "df['contact'] = df['contact'].fillna(df['contact'].mode()[0])  # Assign after filling\n",
        "df['poutcome'] = df['poutcome'].fillna(df['poutcome'].mode()[0])  # Assign after filling\n",
        "\n",
        "# Check for missing values again to confirm\n",
        "print(\"\\nMissing Values after Filling:\")\n",
        "print(df.isnull().sum())\n"
      ],
      "metadata": {
        "colab": {
          "base_uri": "https://localhost:8080/"
        },
        "id": "NpcxjOxxQFS1",
        "outputId": "e2ee33dc-9ea5-42c5-fd1b-c650a9c7ad71"
      },
      "execution_count": 55,
      "outputs": [
        {
          "output_type": "stream",
          "name": "stdout",
          "text": [
            "\n",
            " Missing Values per coloumn .............\n",
            "\n",
            "age              0\n",
            "job            288\n",
            "marital          0\n",
            "education     1857\n",
            "default          0\n",
            "balance          0\n",
            "housing          0\n",
            "loan             0\n",
            "contact      13020\n",
            "day              0\n",
            "month            0\n",
            "duration         0\n",
            "campaign         0\n",
            "pdays            0\n",
            "previous         0\n",
            "poutcome     36959\n",
            "y                0\n",
            "dtype: int64\n",
            "\n",
            " Missing value after droppping \n",
            " \n",
            "age              0\n",
            "job              0\n",
            "marital          0\n",
            "education        0\n",
            "default          0\n",
            "balance          0\n",
            "housing          0\n",
            "loan             0\n",
            "contact      12286\n",
            "day              0\n",
            "month            0\n",
            "duration         0\n",
            "campaign         0\n",
            "pdays            0\n",
            "previous         0\n",
            "poutcome     35286\n",
            "y                0\n",
            "dtype: int64\n",
            "\n",
            "Missing Values after Filling:\n",
            "age          0\n",
            "job          0\n",
            "marital      0\n",
            "education    0\n",
            "default      0\n",
            "balance      0\n",
            "housing      0\n",
            "loan         0\n",
            "contact      0\n",
            "day          0\n",
            "month        0\n",
            "duration     0\n",
            "campaign     0\n",
            "pdays        0\n",
            "previous     0\n",
            "poutcome     0\n",
            "y            0\n",
            "dtype: int64\n"
          ]
        }
      ]
    },
    {
      "cell_type": "code",
      "source": [
        "# encoding the Categorical varible\n",
        "# convert the binary values to 0/1\n",
        "\n",
        "binary_columns =[ 'default','housing', 'loan']\n",
        "for col in binary_columns:\n",
        "  df[col] = df[col].map({'yes':1, 'no':0})\n",
        "\n",
        "# one-hot encoding categorical varibles\n",
        "\n",
        "df = pd.get_dummies(df, columns=['job','marital', 'education','contact', 'poutcome','month'], drop_first=True)\n",
        "\n",
        "# showing encodedd date\n",
        "print ('\\n Encoded data \\n')\n",
        "print (df.head)"
      ],
      "metadata": {
        "colab": {
          "base_uri": "https://localhost:8080/"
        },
        "id": "EoxDQuEISXC-",
        "outputId": "82aec845-7bde-4517-c19b-17cd4feb8082"
      },
      "execution_count": 56,
      "outputs": [
        {
          "output_type": "stream",
          "name": "stdout",
          "text": [
            "\n",
            " Encoded data \n",
            "\n",
            "<bound method NDFrame.head of        age  default  balance  housing  loan  day  duration  campaign  pdays  \\\n",
            "0       58        0     2143        1     0    5       261         1     -1   \n",
            "1       44        0       29        1     0    5       151         1     -1   \n",
            "2       33        0        2        1     1    5        76         1     -1   \n",
            "5       35        0      231        1     0    5       139         1     -1   \n",
            "6       28        0      447        1     1    5       217         1     -1   \n",
            "...    ...      ...      ...      ...   ...  ...       ...       ...    ...   \n",
            "45206   51        0      825        0     0   17       977         3     -1   \n",
            "45207   71        0     1729        0     0   17       456         2     -1   \n",
            "45208   72        0     5715        0     0   17      1127         5    184   \n",
            "45209   57        0      668        0     0   17       508         4     -1   \n",
            "45210   37        0     2971        0     0   17       361         2    188   \n",
            "\n",
            "       previous  ... month_dec  month_feb  month_jan  month_jul  month_jun  \\\n",
            "0             0  ...     False      False      False      False      False   \n",
            "1             0  ...     False      False      False      False      False   \n",
            "2             0  ...     False      False      False      False      False   \n",
            "5             0  ...     False      False      False      False      False   \n",
            "6             0  ...     False      False      False      False      False   \n",
            "...         ...  ...       ...        ...        ...        ...        ...   \n",
            "45206         0  ...     False      False      False      False      False   \n",
            "45207         0  ...     False      False      False      False      False   \n",
            "45208         3  ...     False      False      False      False      False   \n",
            "45209         0  ...     False      False      False      False      False   \n",
            "45210        11  ...     False      False      False      False      False   \n",
            "\n",
            "       month_mar  month_may  month_nov  month_oct  month_sep  \n",
            "0          False       True      False      False      False  \n",
            "1          False       True      False      False      False  \n",
            "2          False       True      False      False      False  \n",
            "5          False       True      False      False      False  \n",
            "6          False       True      False      False      False  \n",
            "...          ...        ...        ...        ...        ...  \n",
            "45206      False      False       True      False      False  \n",
            "45207      False      False       True      False      False  \n",
            "45208      False      False       True      False      False  \n",
            "45209      False      False       True      False      False  \n",
            "45210      False      False       True      False      False  \n",
            "\n",
            "[43193 rows x 39 columns]>\n"
          ]
        }
      ]
    },
    {
      "cell_type": "code",
      "source": [
        "# Converting the traget column (y) into binary fromate\n",
        "\n",
        "df['y'] = df['y'].map({'yes':1, 'no':0})\n",
        "\n",
        "# check the traget column\n",
        "print ('\\n Traget column \\n')\n",
        "print (df['y'])\n"
      ],
      "metadata": {
        "id": "eGy1E5kGNsa8",
        "colab": {
          "base_uri": "https://localhost:8080/"
        },
        "outputId": "2e670f2c-ff0e-4d9b-fffe-0d313f56758d"
      },
      "execution_count": 57,
      "outputs": [
        {
          "output_type": "stream",
          "name": "stdout",
          "text": [
            "\n",
            " Traget column \n",
            "\n",
            "0        0\n",
            "1        0\n",
            "2        0\n",
            "5        0\n",
            "6        0\n",
            "        ..\n",
            "45206    1\n",
            "45207    1\n",
            "45208    1\n",
            "45209    0\n",
            "45210    0\n",
            "Name: y, Length: 43193, dtype: int64\n"
          ]
        }
      ]
    },
    {
      "cell_type": "code",
      "source": [
        "# normalize/ Standardize the numarial features\n",
        "\n",
        "from sklearn.preprocessing import StandardScaler\n",
        "\n",
        "scaler = StandardScaler()\n",
        "\n",
        "# selkec numaerial coloums for scale\n",
        "numerical_features =['age','balance', 'duration', 'campaign','pdays', 'previous']\n",
        "df[numerical_features] = scaler.fit_transform(df[numerical_features])\n",
        "\n",
        "# display the scaled featuer\n",
        "print ('\\n Scaled data \\n')\n",
        "print (df[numerical_features].head())"
      ],
      "metadata": {
        "colab": {
          "base_uri": "https://localhost:8080/"
        },
        "id": "pEADooWhVGLq",
        "outputId": "cacef3d3-8835-4d05-8d9f-8e05ef71ee10"
      },
      "execution_count": 58,
      "outputs": [
        {
          "output_type": "stream",
          "name": "stdout",
          "text": [
            "\n",
            " Scaled data \n",
            "\n",
            "        age   balance  duration  campaign     pdays  previous\n",
            "0  1.639561  0.259354  0.010368 -0.573827 -0.412311  -0.25073\n",
            "1  0.307816 -0.435568 -0.415726 -0.573827 -0.412311  -0.25073\n",
            "2 -0.738556 -0.444443 -0.706245 -0.573827 -0.412311  -0.25073\n",
            "5 -0.548306 -0.369166 -0.462209 -0.573827 -0.412311  -0.25073\n",
            "6 -1.214179 -0.298161 -0.160070 -0.573827 -0.412311  -0.25073\n"
          ]
        }
      ]
    },
    {
      "cell_type": "code",
      "source": [
        "# spilting the dataset\n",
        "\n",
        "from sklearn.model_selection import train_test_split\n",
        "\n",
        "X = df.drop(columns=['y'])  # features\n",
        "y = df['y']    # traget varible\n",
        "\n",
        "# Split into tarimg 80% and test 20%\n",
        "X_train, X_test, y_train, y_test = train_test_split(X, y, test_size=0.2, random_state=42)\n",
        "\n",
        "print(\"\\nTraining and Testing Set Sizes:\")\n",
        "print(f\"X_train: {X_train.shape}, X_test: {X_test.shape}\")\n",
        "print(f\"y_train: {y_train.shape}, y_test: {y_test.shape}\")"
      ],
      "metadata": {
        "colab": {
          "base_uri": "https://localhost:8080/"
        },
        "id": "2wXx4IprWpcq",
        "outputId": "50a7b6d8-518e-4a05-af2a-96e168be4d34"
      },
      "execution_count": 59,
      "outputs": [
        {
          "output_type": "stream",
          "name": "stdout",
          "text": [
            "\n",
            "Training and Testing Set Sizes:\n",
            "X_train: (34554, 38), X_test: (8639, 38)\n",
            "y_train: (34554,), y_test: (8639,)\n"
          ]
        }
      ]
    },
    {
      "cell_type": "code",
      "source": [
        "print(df['y'].isnull().sum())\n",
        "\n",
        "print(y_train.isnull().sum())\n",
        "print(y_test.isnull().sum())\n",
        "\n",
        "print(df.head())\n"
      ],
      "metadata": {
        "colab": {
          "base_uri": "https://localhost:8080/"
        },
        "id": "qJB5EfdjezlD",
        "outputId": "17aff537-3fe1-4e3d-e043-b7d272d4aef1"
      },
      "execution_count": 60,
      "outputs": [
        {
          "output_type": "stream",
          "name": "stdout",
          "text": [
            "0\n",
            "0\n",
            "0\n",
            "        age  default   balance  housing  loan  day  duration  campaign  \\\n",
            "0  1.639561        0  0.259354        1     0    5  0.010368 -0.573827   \n",
            "1  0.307816        0 -0.435568        1     0    5 -0.415726 -0.573827   \n",
            "2 -0.738556        0 -0.444443        1     1    5 -0.706245 -0.573827   \n",
            "5 -0.548306        0 -0.369166        1     0    5 -0.462209 -0.573827   \n",
            "6 -1.214179        0 -0.298161        1     1    5 -0.160070 -0.573827   \n",
            "\n",
            "      pdays  previous  ...  month_dec  month_feb  month_jan  month_jul  \\\n",
            "0 -0.412311  -0.25073  ...      False      False      False      False   \n",
            "1 -0.412311  -0.25073  ...      False      False      False      False   \n",
            "2 -0.412311  -0.25073  ...      False      False      False      False   \n",
            "5 -0.412311  -0.25073  ...      False      False      False      False   \n",
            "6 -0.412311  -0.25073  ...      False      False      False      False   \n",
            "\n",
            "   month_jun  month_mar  month_may  month_nov  month_oct  month_sep  \n",
            "0      False      False       True      False      False      False  \n",
            "1      False      False       True      False      False      False  \n",
            "2      False      False       True      False      False      False  \n",
            "5      False      False       True      False      False      False  \n",
            "6      False      False       True      False      False      False  \n",
            "\n",
            "[5 rows x 39 columns]\n"
          ]
        }
      ]
    },
    {
      "cell_type": "code",
      "source": [
        "# handling class imbalance\n",
        "\n",
        "from imblearn.over_sampling import SMOTE\n",
        "\n",
        "smote =  SMOTE(random_state=42)\n",
        "X_train_resampled, y_train_resampled = smote.fit_resample(X_train, y_train)\n",
        "\n",
        "# after balancing --display\n",
        "\n",
        "print(\"\\nAfter Balancing:\")\n",
        "print(y_train_resampled.value_counts())"
      ],
      "metadata": {
        "colab": {
          "base_uri": "https://localhost:8080/"
        },
        "id": "8L1fE0rTaLzC",
        "outputId": "f8422f79-fc42-4fb3-ea84-4c69113b4178"
      },
      "execution_count": 61,
      "outputs": [
        {
          "output_type": "stream",
          "name": "stderr",
          "text": [
            "/usr/local/lib/python3.10/dist-packages/sklearn/base.py:474: FutureWarning: `BaseEstimator._validate_data` is deprecated in 1.6 and will be removed in 1.7. Use `sklearn.utils.validation.validate_data` instead. This function becomes public and is part of the scikit-learn developer API.\n",
            "  warnings.warn(\n",
            "/usr/local/lib/python3.10/dist-packages/sklearn/utils/_tags.py:354: FutureWarning: The SMOTE or classes from which it inherits use `_get_tags` and `_more_tags`. Please define the `__sklearn_tags__` method, or inherit from `sklearn.base.BaseEstimator` and/or other appropriate mixins such as `sklearn.base.TransformerMixin`, `sklearn.base.ClassifierMixin`, `sklearn.base.RegressorMixin`, and `sklearn.base.OutlierMixin`. From scikit-learn 1.7, not defining `__sklearn_tags__` will raise an error.\n",
            "  warnings.warn(\n"
          ]
        },
        {
          "output_type": "stream",
          "name": "stdout",
          "text": [
            "\n",
            "After Balancing:\n",
            "y\n",
            "1    30514\n",
            "0    30514\n",
            "Name: count, dtype: int64\n"
          ]
        }
      ]
    },
    {
      "cell_type": "code",
      "source": [
        "# saving the preprocessed data\n",
        "\n",
        "X_train_resampled.to_csv('X_train_resampled.csv', index=False)\n",
        "X_test.to_csv('X_test.csv', index=False)\n",
        "y_train_resampled.to_csv('y_train_resampled.csv', index=False)\n",
        "y_test.to_csv('y_test.csv', index=False)\n",
        "\n",
        "print(\"Preprocessed data saved to CSV files.\")\n"
      ],
      "metadata": {
        "colab": {
          "base_uri": "https://localhost:8080/"
        },
        "id": "Ufrn1-2pjhCw",
        "outputId": "0cefcfd2-c77e-4375-e902-3bddedce6b81"
      },
      "execution_count": 62,
      "outputs": [
        {
          "output_type": "stream",
          "name": "stdout",
          "text": [
            "Preprocessed data saved to CSV files.\n"
          ]
        }
      ]
    }
  ]
}